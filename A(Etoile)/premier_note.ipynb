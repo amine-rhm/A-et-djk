{
 "cells": [
  {
   "cell_type": "markdown",
   "id": "b2fb7d99-4cc8-4a44-ac5f-45970b02d28f",
   "metadata": {
    "tags": []
   },
   "source": [
    "# LES LABIRYNTHES \n",
    "## Lecture d'un fichier"
   ]
  },
  {
   "cell_type": "markdown",
   "id": "5a8754da-9303-4a38-a8ee-7c8744547aca",
   "metadata": {},
   "source": [
    "Ceci est un exemple d'un notebook. Pour le faire tourner pas à pas, cliquez sur l'icône ▶️.  \n",
    "Pour le faire tourner tout d'un coup, cliquez sur l'icône ▶️▶️."
   ]
  },
  {
   "cell_type": "markdown",
   "id": "1009f897-5330-46e8-a505-1eb5081a0eca",
   "metadata": {},
   "source": [
    "On va charger un fichier qui décrit un labirynthe de la forme d'une matrice contentant des 0 et des 1.  \n",
    "Les zéros réprésentent le chemin et les 1 représentent les murs.  \n",
    "\n",
    "Voici le fichier maze0.txt:  \n",
    "10 10  \n",
    "9 0  \n",
    "0 9  \n",
    "0 0 0 0 0 0 0 0 0 0  \n",
    "0 0 0 0 1 1 1 1 1 1  \n",
    "1 1 1 0 1 0 0 0 1 0  \n",
    "0 0 0 0 1 0 1 0 1 0  \n",
    "0 1 1 1 1 0 1 0 1 0  \n",
    "0 0 0 0 0 0 1 0 1 0  \n",
    "1 1 0 1 1 0 1 0 1 0  \n",
    "0 0 0 0 1 0 1 0 1 0  \n",
    "1 1 1 0 1 0 1 0 1 0  \n",
    "0 0 0 0 1 0 1 0 0 0\n",
    "\n",
    "La première ligne contient la taille de la matrice: (nombre de lignes) (nombre de colonnes)  \n",
    "La deuxième ligne contient la position d'entrée dans le labirynthe: (ligne) (colonne)  \n",
    "La troisième ligne contient la position de sortie dau le labirynthe: (ligne) (colonne)  "
   ]
  },
  {
   "cell_type": "markdown",
   "id": "6ce2179c-57cb-449c-8cf7-e1807d574cda",
   "metadata": {},
   "source": [
    "On va commencer par créer une fonction de lecture:"
   ]
  },
  {
   "cell_type": "code",
   "execution_count": 1,
   "id": "db7b6af1-ffa8-4fe4-96e6-97e66e791f0e",
   "metadata": {
    "tags": []
   },
   "outputs": [],
   "source": [
    "def lire_fichier(filepath):\n",
    "    with open(filepath, 'r') as file: # 'r' pour read/lecture\n",
    "        # Lire toutes les lignes du fichier\n",
    "        lignes = file.readlines()\n",
    "        \n",
    "        # Extraire les dimensions de la matrice\n",
    "        dimensions = list(map(int, lignes[0].strip().split()))\n",
    "        #La méthode .strip(): supprimer les espaces blancs ou des \n",
    "        #caractères spécifiques au début et à la fin d'une chaîne de caractères (string).\n",
    "        \n",
    "        #la fonction .split(): transformer \"10 10 10\" en [\"10\", \"10\", \"10\"] \n",
    "        \n",
    "        # Extraire le point d'éntrée\n",
    "        point1 = list(map(int, lignes[1].strip().split()))\n",
    "        # Extraire le point de sortie\n",
    "        point2 = list(map(int, lignes[2].strip().split()))\n",
    "        #la méthode map va prendre chage élément du tableau donnée par ligne.strip().split() \n",
    "        #et appliquer la fonction int(): cast d'une string en entier\n",
    "\n",
    "        # Lire la matrice\n",
    "        matrice = []\n",
    "        for ligne in lignes[3:]: #à partir de la ligne trois jusqu'à la fin\n",
    "            matrice.append(list(map(int, ligne.strip().split())))\n",
    "        \n",
    "        return dimensions, point1, point2, matrice\n"
   ]
  },
  {
   "cell_type": "code",
   "execution_count": 2,
   "id": "b94e7666-7e9d-480b-98ca-1ef07fc99435",
   "metadata": {
    "tags": []
   },
   "outputs": [
    {
     "name": "stdout",
     "output_type": "stream",
     "text": [
      "Dimensions : [10, 10]\n",
      "Point 1 : [9, 0]\n",
      "Point 2 : [0, 9]\n",
      "Matrice :\n",
      "[0, 0, 0, 0, 0, 0, 0, 0, 0, 0]\n",
      "[0, 0, 0, 0, 1, 1, 1, 1, 1, 1]\n",
      "[1, 1, 1, 0, 1, 0, 0, 0, 1, 0]\n",
      "[0, 0, 0, 0, 1, 0, 1, 0, 1, 0]\n",
      "[0, 1, 1, 1, 1, 0, 1, 0, 1, 0]\n",
      "[0, 0, 0, 0, 0, 0, 1, 0, 1, 0]\n",
      "[1, 1, 0, 1, 1, 0, 1, 0, 1, 0]\n",
      "[0, 0, 0, 0, 1, 0, 1, 0, 1, 0]\n",
      "[1, 1, 1, 0, 1, 0, 1, 0, 1, 0]\n",
      "[0, 0, 0, 0, 1, 0, 1, 0, 0, 0]\n"
     ]
    }
   ],
   "source": [
    "\n",
    "# Exemple d'utilisation\n",
    "fichier = \"maze0.txt\"\n",
    "\n",
    "dimensions, point1, point2, matrice = lire_fichier(fichier)\n",
    "\n",
    "print(\"Dimensions :\", dimensions)\n",
    "print(\"Point 1 :\", point1)\n",
    "print(\"Point 2 :\", point2)\n",
    "print(\"Matrice :\")\n",
    "for ligne in matrice:\n",
    "    print(ligne)"
   ]
  }
 ],
 "metadata": {
  "kernelspec": {
   "display_name": "Python 3 (ipykernel)",
   "language": "python",
   "name": "python3"
  },
  "language_info": {
   "codemirror_mode": {
    "name": "ipython",
    "version": 3
   },
   "file_extension": ".py",
   "mimetype": "text/x-python",
   "name": "python",
   "nbconvert_exporter": "python",
   "pygments_lexer": "ipython3",
   "version": "3.11.4"
  }
 },
 "nbformat": 4,
 "nbformat_minor": 5
}
