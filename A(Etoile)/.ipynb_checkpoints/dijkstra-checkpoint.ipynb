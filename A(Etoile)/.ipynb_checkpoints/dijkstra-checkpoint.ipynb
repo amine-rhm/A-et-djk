{
 "cells": [
  {
   "cell_type": "markdown",
   "id": "b2fb7d99-4cc8-4a44-ac5f-45970b02d28f",
   "metadata": {
    "tags": []
   },
   "source": [
    "# LES LABIRYNTHES \n",
    "## Résolution par Dijkstra"
   ]
  },
  {
   "cell_type": "markdown",
   "id": "83125a62-cbe8-48c8-9ce8-0106c4c2d4f6",
   "metadata": {},
   "source": [
    "Nous profitons de notre fonction de lecture implémentée précédemment."
   ]
  },
  {
   "cell_type": "code",
   "execution_count": 1,
   "id": "db7b6af1-ffa8-4fe4-96e6-97e66e791f0e",
   "metadata": {
    "tags": []
   },
   "outputs": [],
   "source": [
    "def lire_fichier(filepath):\n",
    "    with open(filepath, 'r') as file: # 'r' pour read/lecture\n",
    "        # Lire toutes les lignes du fichier\n",
    "        lignes = file.readlines()\n",
    "        \n",
    "        # Extraire les dimensions de la matrice\n",
    "        dimensions = list(map(int, lignes[0].strip().split()))\n",
    "        #La méthode .strip(): supprimer les espaces blancs ou des \n",
    "        #caractères spécifiques au début et à la fin d'une chaîne de caractères (string).\n",
    "        \n",
    "        #la fonction .split(): transformer \"10 10 10\" en [\"10\", \"10\", \"10\"] \n",
    "        \n",
    "        # Extraire le point d'éntrée\n",
    "        point1 = tuple(map(int, lignes[1].strip().split()))\n",
    "        # Extraire le point de sortie\n",
    "        point2 = tuple(map(int, lignes[2].strip().split()))\n",
    "        #la méthode map va prendre chage élément du tableau donnée par ligne.strip().split() \n",
    "        #et appliquer la fonction int(): cast d'une string en entier\n",
    "\n",
    "        # Lire la matrice\n",
    "        matrice = []\n",
    "        for ligne in lignes[3:]: #à partir de la ligne trois jusqu'à la fin\n",
    "            matrice.append(list(map(int, ligne.strip().split())))\n",
    "        \n",
    "        return dimensions, point1, point2, matrice\n"
   ]
  },
  {
   "cell_type": "markdown",
   "id": "117128df-e568-4891-94cb-a6fe7494141c",
   "metadata": {},
   "source": [
    "Nous passons maintenant à l'implémentation de Dijstra. Pour ce faire j'aurai besoin de la classe Node, défini comme suit"
   ]
  },
  {
   "cell_type": "code",
   "execution_count": 2,
   "id": "5a13f889-4e21-4b57-9a53-3098c278d4fa",
   "metadata": {
    "tags": []
   },
   "outputs": [],
   "source": [
    "class Node():\n",
    "    #this représente l'objet \n",
    "    def __init__(this, parent=None, position=None): #constructeur\n",
    "        this.preced = parent\n",
    "        this.position = position\n",
    "        this.dist = 0  # G(u), coût réel depuis le départ\n",
    "        this.h = 0     # H(u), estimation heuristique\n",
    "        this.f = 0     # F(u) = G(u) + H(u)\n",
    "\n",
    "    def __eq__(this, other):                        #surcharge de la fonction de comparaison ==\n",
    "        return this.position == other.position\n",
    "\n",
    "    def __lt__(this, other):  # surcharge de la fonction de comparaison <\n",
    "        return this.f < other.f  # On compare sur F(u) pour A*"
   ]
  },
  {
   "cell_type": "code",
   "execution_count": 3,
   "id": "455fa76f-494c-433d-b960-d5a67c6bbbda",
   "metadata": {},
   "outputs": [],
   "source": [
    "# Fonction heuristique H basée sur la distance de Chebyshev\n",
    "def heuristique_chebyshev(node, end):\n",
    "    return max(abs(end[0] - node.position[0]), abs(end[1] - node.position[1]))"
   ]
  },
  {
   "cell_type": "markdown",
   "id": "20186a00-e73e-43b5-9d9a-1cf99e4fede1",
   "metadata": {},
   "source": [
    "Passons maintenant à l'implémentation de la fonction dijkstra"
   ]
  },
  {
   "cell_type": "code",
   "execution_count": 4,
   "id": "b94e7666-7e9d-480b-98ca-1ef07fc99435",
   "metadata": {
    "tags": []
   },
   "outputs": [],
   "source": [
    "import heapq\n",
    "\n",
    "def dijkstra(maze, start, end):\n",
    "    # Retourne une liste de tuples représentant le chemin du départ à la fin dans le labyrinthe donné\n",
    "\n",
    "    # Créer les noeuds de départ et de fin\n",
    "    start_node = Node(None, start)\n",
    "    end_node = Node(None, end)\n",
    "\n",
    "    # Initialiser la liste ouverte et la liste fermée (ouverte comme une file de priorité)\n",
    "    open_list = []\n",
    "    closed_set = set()\n",
    "\n",
    "    # Initialiser les valeurs de départ\n",
    "    start_node.h = heuristique_chebyshev(start_node, end)\n",
    "    start_node.f = start_node.h  # G(u) = 0 au début, donc F = H\n",
    "    \n",
    "    # Ajouter le noeud de départ\n",
    "    heapq.heappush(open_list, start_node)\n",
    "\n",
    "    # Boucler jusqu'à trouver la fin\n",
    "    while open_list:\n",
    "\n",
    "        # Récupérer le noeud actuel\n",
    "        current_node = heapq.heappop(open_list)\n",
    "        closed_set.add(current_node.position)\n",
    "\n",
    "        # Objectif trouvé\n",
    "        if current_node == end_node:\n",
    "            return current_node, closed_set  # Retourner le chemin inversé\n",
    "\n",
    "        # Générer les voisins\n",
    "        for voisins in [(0, -1), (0, 1), (-1, 0), (1, 0), (-1, -1), (-1, 1), (1, -1), (1, 1)]:\n",
    "            voisin_position = (current_node.position[0] + voisins[0], current_node.position[1] + voisins[1])\n",
    "\n",
    "            if ((voisin_position in closed_set) or #Si déjà exploré, on passe\n",
    "             not(0 <= voisin_position[0] < len(maze) and \n",
    "                0 <= voisin_position[1] < len(maze[0]) and #Si un sommet mur ou en dehors du grid, on passe\n",
    "                maze[voisin_position[0]][voisin_position[1]] == 0)):\n",
    "                continue\n",
    "            \n",
    "            \n",
    "            new_node = Node(current_node, voisin_position)\n",
    "            # Calculate dist\n",
    "            \n",
    "            new_node.dist = current_node.dist + 1  # G(u) = coût réel depuis le départ\n",
    "            new_node.h = heuristique_chebyshev(new_node, end)  # H(u) = heuristique Chebyshev\n",
    "            new_node.f = new_node.dist + new_node.h  # F(u) = G(u) + H(u)\n",
    "\n",
    "\n",
    "            # Regarde si dans la open list et si distance plus petite.\n",
    "            in_open_list = False\n",
    "            for open_node in open_list:\n",
    "                if new_node == open_node and new_node.f < open_node.f:\n",
    "                    open_node = new_node\n",
    "                    in_open_list = True\n",
    "                    break\n",
    "            \n",
    "            # Regarde si pas dans la open list, y ajouter.\n",
    "            if not in_open_list:\n",
    "                heapq.heappush(open_list, new_node)\n"
   ]
  },
  {
   "cell_type": "markdown",
   "id": "6896e88a-7f1b-4786-8675-71b73f3cc65f",
   "metadata": {},
   "source": [
    "Remarquez qu'on fait un ```import heapq``` au début pour charger la bibliotèque ```heapq``` qui nous permet d'utiliser un tas minimal  \n",
    "Ce tas minimal, organise notre tableau de manière à ce que l'élément au début soit celui avec la plus petite distance.  \n",
    "Cela est fait à l'aide de la méthode ```_lt_``` qui a été redéfinie dans notre classe  ```Node```\n",
    "\n",
    "De plus, cette structure nous permet une insertion et suppression à O(nlog n), tout en gardant l'élément avec la plus petite distance au début. "
   ]
  },
  {
   "cell_type": "markdown",
   "id": "8cc03b19-a2e5-4f90-8e46-a36ec29ef56c",
   "metadata": {},
   "source": [
    "Ils nous faut maintenant une fonction qui récupère le chemin à partir de la fin:"
   ]
  },
  {
   "cell_type": "code",
   "execution_count": 5,
   "id": "fb3292bb-c313-4da9-a0c6-79e152ac829d",
   "metadata": {},
   "outputs": [],
   "source": [
    " \n",
    "def get_path(end_node):\n",
    "    path = []\n",
    "    current_node = end_node\n",
    "    while current_node is not None:\n",
    "        path.append(current_node.position)\n",
    "        current_node = current_node.preced\n",
    "    # On a le chemin dans le tableau path, mais il est à l'envers\n",
    "    return path[::-1]  # Returner le chemin contraire\n"
   ]
  },
  {
   "cell_type": "markdown",
   "id": "70afa397-922f-4082-994c-60b67d1ba2f7",
   "metadata": {},
   "source": [
    "On peut maintenant résoudre notre labirynthe:"
   ]
  },
  {
   "cell_type": "code",
   "execution_count": 6,
   "id": "fc91d18e-842b-4d10-89cf-9484c119dce2",
   "metadata": {
    "tags": []
   },
   "outputs": [
    {
     "name": "stdout",
     "output_type": "stream",
     "text": [
      "[0, 0, 0, 0, 5, 5, 5, 5, 5, 5]\n",
      "[0, 0, 0, 5, 1, 1, 1, 1, 1, 1]\n",
      "[1, 1, 1, 5, 1, 0, 0, 0, 1, 0]\n",
      "[0, 5, 5, 0, 1, 0, 1, 0, 1, 0]\n",
      "[5, 1, 1, 1, 1, 0, 1, 0, 1, 0]\n",
      "[0, 5, 0, 0, 0, 0, 1, 0, 1, 0]\n",
      "[1, 1, 5, 1, 1, 0, 1, 0, 1, 0]\n",
      "[0, 0, 0, 5, 1, 0, 1, 0, 1, 0]\n",
      "[1, 1, 1, 5, 1, 0, 1, 0, 1, 0]\n",
      "[5, 5, 5, 0, 1, 0, 1, 0, 0, 0]\n",
      "nombre de sommets explorés:  38\n"
     ]
    }
   ],
   "source": [
    "fichier = \"maze.txt\"\n",
    "\n",
    "dimensions, start, end, maze = lire_fichier(fichier)\n",
    "\n",
    "end_node, closed_set = dijkstra(maze, start, end)\n",
    "path = get_path(end_node)\n",
    "\n",
    "for pos in path:\n",
    "    maze[pos[0]][pos[1]] = 5\n",
    "for row in maze:\n",
    "    print(row)\n",
    "\n",
    "print(\"nombre de sommets explorés: \",len(closed_set))"
   ]
  },
  {
   "cell_type": "markdown",
   "id": "3bb8d958-3466-40c2-9eac-d4b6811a0558",
   "metadata": {},
   "source": [
    "Le chemin est indique par le numéro 5."
   ]
  }
 ],
 "metadata": {
  "kernelspec": {
   "display_name": "Python 3 (ipykernel)",
   "language": "python",
   "name": "python3"
  },
  "language_info": {
   "codemirror_mode": {
    "name": "ipython",
    "version": 3
   },
   "file_extension": ".py",
   "mimetype": "text/x-python",
   "name": "python",
   "nbconvert_exporter": "python",
   "pygments_lexer": "ipython3",
   "version": "3.12.3"
  }
 },
 "nbformat": 4,
 "nbformat_minor": 5
}
